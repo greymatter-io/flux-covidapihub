{
 "cells": [
  {
   "cell_type": "markdown",
   "metadata": {},
   "source": [
    "# HealthData.gov\n",
    "\n",
    "The spreadsheet names change when they update. Running the following will make the updates necessary, however, it will not create a branch and push PR."
   ]
  },
  {
   "cell_type": "code",
   "execution_count": 1,
   "metadata": {},
   "outputs": [],
   "source": [
    "import requests\n",
    "import re"
   ]
  },
  {
   "cell_type": "code",
   "execution_count": 2,
   "metadata": {},
   "outputs": [],
   "source": [
    "url = 'https://healthdata.gov/api/3/action/package_show?id=060e4acc-241d-4d19-a929-f5f7b653c648'"
   ]
  },
  {
   "cell_type": "code",
   "execution_count": 3,
   "metadata": {},
   "outputs": [],
   "source": [
    "r = requests.get(url)"
   ]
  },
  {
   "cell_type": "code",
   "execution_count": 4,
   "metadata": {},
   "outputs": [],
   "source": [
    "json_response = r.json()"
   ]
  },
  {
   "cell_type": "code",
   "execution_count": 5,
   "metadata": {},
   "outputs": [],
   "source": [
    "resource_list = json_response.get('result')[0].get('resources')"
   ]
  },
  {
   "cell_type": "code",
   "execution_count": 6,
   "metadata": {
    "scrolled": true
   },
   "outputs": [
    {
     "name": "stdout",
     "output_type": "stream",
     "text": [
      "https://healthdata.gov/sites/default/files/estimated_inpatient_all_20201024_2155.csv\n",
      "https://healthdata.gov/sites/default/files/estimated_inpatient_covid_20201024_2155.csv\n",
      "https://healthdata.gov/sites/default/files/estimated_icu_20201024_2155.csv\n"
     ]
    }
   ],
   "source": [
    "for resource in resource_list:\n",
    "    url = resource.get('url')\n",
    "    print(url)\n",
    "    if 'https://healthdata.gov/sites/default/files/estimated_inpatient_all' in url:\n",
    "        with open ('../apis/inpatient-beds-by-state/inpatient-beds-by-state.deployment.yaml', 'r+' ) as f:\n",
    "            content = f.read()\n",
    "            content_new = re.sub(r'https:\\/\\/healthdata\\.gov\\/sites\\/default\\/files\\/estimated_inpatient_all_.*\\.csv', url, content, flags = re.M)\n",
    "            f.seek(0)\n",
    "            f.truncate()\n",
    "            f.write(content_new)      \n",
    "    elif 'https://healthdata.gov/sites/default/files/estimated_inpatient_covid' in url:\n",
    "        with open ('../apis/covid-inpatient-beds-by-state/covid-inpatient-beds-by-state.deployment.yaml', 'r+' ) as f:\n",
    "            content = f.read()\n",
    "            content_new = re.sub(r'https:\\/\\/healthdata\\.gov\\/sites\\/default\\/files\\/estimated_inpatient_covid_.*\\.csv', url, content, flags = re.M)\n",
    "            f.seek(0)\n",
    "            f.truncate()\n",
    "            f.write(content_new)      \n",
    "    elif 'https://healthdata.gov/sites/default/files/estimated_icu' in url:\n",
    "        with open ('../apis/icu-beds-by-state/icu-beds-by-state.deployment.yaml', 'r+' ) as f:\n",
    "            content = f.read()\n",
    "            content_new = re.sub(r'https:\\/\\/healthdata\\.gov\\/sites\\/default\\/files\\/estimated_icu_.*\\.csv', url, content, flags = re.M)\n",
    "            f.seek(0)\n",
    "            f.truncate()\n",
    "            f.write(content_new)    "
   ]
  },
  {
   "cell_type": "code",
   "execution_count": 8,
   "metadata": {},
   "outputs": [
    {
     "name": "stdout",
     "output_type": "stream",
     "text": [
      "Notice: additional authorization required\n",
      "Press Enter to open github.com in your browser... ^C\n"
     ]
    }
   ],
   "source": [
    "# ! cd ../.. & gh pr create --base master --title \"healthdata update\" --body \"generated via script\" "
   ]
  },
  {
   "cell_type": "code",
   "execution_count": null,
   "metadata": {},
   "outputs": [],
   "source": []
  }
 ],
 "metadata": {
  "kernelspec": {
   "display_name": "Python 3",
   "language": "python",
   "name": "python3"
  },
  "language_info": {
   "codemirror_mode": {
    "name": "ipython",
    "version": 3
   },
   "file_extension": ".py",
   "mimetype": "text/x-python",
   "name": "python",
   "nbconvert_exporter": "python",
   "pygments_lexer": "ipython3",
   "version": "3.7.6"
  }
 },
 "nbformat": 4,
 "nbformat_minor": 4
}
